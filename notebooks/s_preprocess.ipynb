{
 "cells": [
  {
   "cell_type": "code",
   "execution_count": 3,
   "id": "450f485a",
   "metadata": {},
   "outputs": [
    {
     "name": "stdout",
     "output_type": "stream",
     "text": [
      " Volume in drive D is New Volume\n",
      " Volume Serial Number is F84C-BD7B\n",
      "\n",
      " Directory of d:\\DL_project\\CreditCardFraudProject\\notebooks\n",
      "\n",
      "10/08/2025  01:54 PM    <DIR>          .\n",
      "10/08/2025  01:30 PM    <DIR>          ..\n",
      "10/08/2025  01:27 PM                 2 .gitkeep\n",
      "10/08/2025  02:19 PM             9,718 preprocessing.ipynb\n",
      "10/08/2025  02:27 PM             1,432 s_preprocess.ipynb\n",
      "               3 File(s)         11,152 bytes\n",
      "               2 Dir(s)  84,338,454,528 bytes free\n"
     ]
    }
   ],
   "source": [
    "!dir\n"
   ]
  },
  {
   "cell_type": "code",
   "execution_count": 4,
   "id": "10f2f56f",
   "metadata": {},
   "outputs": [
    {
     "name": "stderr",
     "output_type": "stream",
     "text": [
      "Matplotlib is building the font cache; this may take a moment.\n"
     ]
    },
    {
     "name": "stdout",
     "output_type": "stream",
     "text": [
      "✅ All libraries are working!\n"
     ]
    }
   ],
   "source": [
    "import pandas as pd\n",
    "import numpy as np\n",
    "import sklearn\n",
    "import matplotlib\n",
    "import tensorflow as tf   # or torch, depending on what you use\n",
    "\n",
    "print(\"✅ All libraries are working!\")"
   ]
  },
  {
   "cell_type": "code",
   "execution_count": 5,
   "id": "65196f9e",
   "metadata": {},
   "outputs": [],
   "source": [
    "file_path = r\"D:\\DL_project\\CreditCardFraudProject\\data\\CreditCardData.csv\"\n",
    "df = pd.read_csv(file_path)\n"
   ]
  },
  {
   "cell_type": "code",
   "execution_count": 6,
   "id": "15b4d5a4",
   "metadata": {},
   "outputs": [
    {
     "name": "stdout",
     "output_type": "stream",
     "text": [
      "(100000, 16)\n"
     ]
    }
   ],
   "source": [
    "print(df.shape)"
   ]
  },
  {
   "cell_type": "code",
   "execution_count": 7,
   "id": "49d26cd7",
   "metadata": {},
   "outputs": [
    {
     "data": {
      "text/html": [
       "<div>\n",
       "<style scoped>\n",
       "    .dataframe tbody tr th:only-of-type {\n",
       "        vertical-align: middle;\n",
       "    }\n",
       "\n",
       "    .dataframe tbody tr th {\n",
       "        vertical-align: top;\n",
       "    }\n",
       "\n",
       "    .dataframe thead th {\n",
       "        text-align: right;\n",
       "    }\n",
       "</style>\n",
       "<table border=\"1\" class=\"dataframe\">\n",
       "  <thead>\n",
       "    <tr style=\"text-align: right;\">\n",
       "      <th></th>\n",
       "      <th>Transaction ID</th>\n",
       "      <th>Date</th>\n",
       "      <th>Day of Week</th>\n",
       "      <th>Time</th>\n",
       "      <th>Type of Card</th>\n",
       "      <th>Entry Mode</th>\n",
       "      <th>Amount</th>\n",
       "      <th>Type of Transaction</th>\n",
       "      <th>Merchant Group</th>\n",
       "      <th>Country of Transaction</th>\n",
       "      <th>Shipping Address</th>\n",
       "      <th>Country of Residence</th>\n",
       "      <th>Gender</th>\n",
       "      <th>Age</th>\n",
       "      <th>Bank</th>\n",
       "      <th>Fraud</th>\n",
       "    </tr>\n",
       "  </thead>\n",
       "  <tbody>\n",
       "    <tr>\n",
       "      <th>0</th>\n",
       "      <td>#3577 209</td>\n",
       "      <td>14-Oct-20</td>\n",
       "      <td>Wednesday</td>\n",
       "      <td>19</td>\n",
       "      <td>Visa</td>\n",
       "      <td>Tap</td>\n",
       "      <td>£5</td>\n",
       "      <td>POS</td>\n",
       "      <td>Entertainment</td>\n",
       "      <td>United Kingdom</td>\n",
       "      <td>United Kingdom</td>\n",
       "      <td>United Kingdom</td>\n",
       "      <td>M</td>\n",
       "      <td>25.2</td>\n",
       "      <td>RBS</td>\n",
       "      <td>0</td>\n",
       "    </tr>\n",
       "    <tr>\n",
       "      <th>1</th>\n",
       "      <td>#3039 221</td>\n",
       "      <td>14-Oct-20</td>\n",
       "      <td>Wednesday</td>\n",
       "      <td>17</td>\n",
       "      <td>MasterCard</td>\n",
       "      <td>PIN</td>\n",
       "      <td>£288</td>\n",
       "      <td>POS</td>\n",
       "      <td>Services</td>\n",
       "      <td>USA</td>\n",
       "      <td>USA</td>\n",
       "      <td>USA</td>\n",
       "      <td>F</td>\n",
       "      <td>49.6</td>\n",
       "      <td>Lloyds</td>\n",
       "      <td>0</td>\n",
       "    </tr>\n",
       "    <tr>\n",
       "      <th>2</th>\n",
       "      <td>#2694 780</td>\n",
       "      <td>14-Oct-20</td>\n",
       "      <td>Wednesday</td>\n",
       "      <td>14</td>\n",
       "      <td>Visa</td>\n",
       "      <td>Tap</td>\n",
       "      <td>£5</td>\n",
       "      <td>POS</td>\n",
       "      <td>Restaurant</td>\n",
       "      <td>India</td>\n",
       "      <td>India</td>\n",
       "      <td>India</td>\n",
       "      <td>F</td>\n",
       "      <td>42.2</td>\n",
       "      <td>Barclays</td>\n",
       "      <td>0</td>\n",
       "    </tr>\n",
       "    <tr>\n",
       "      <th>3</th>\n",
       "      <td>#2640 960</td>\n",
       "      <td>13-Oct-20</td>\n",
       "      <td>Tuesday</td>\n",
       "      <td>14</td>\n",
       "      <td>Visa</td>\n",
       "      <td>Tap</td>\n",
       "      <td>£28</td>\n",
       "      <td>POS</td>\n",
       "      <td>Entertainment</td>\n",
       "      <td>United Kingdom</td>\n",
       "      <td>India</td>\n",
       "      <td>United Kingdom</td>\n",
       "      <td>F</td>\n",
       "      <td>51.0</td>\n",
       "      <td>Barclays</td>\n",
       "      <td>0</td>\n",
       "    </tr>\n",
       "    <tr>\n",
       "      <th>4</th>\n",
       "      <td>#2771 031</td>\n",
       "      <td>13-Oct-20</td>\n",
       "      <td>Tuesday</td>\n",
       "      <td>23</td>\n",
       "      <td>Visa</td>\n",
       "      <td>CVC</td>\n",
       "      <td>£91</td>\n",
       "      <td>Online</td>\n",
       "      <td>Electronics</td>\n",
       "      <td>USA</td>\n",
       "      <td>USA</td>\n",
       "      <td>United Kingdom</td>\n",
       "      <td>M</td>\n",
       "      <td>38.0</td>\n",
       "      <td>Halifax</td>\n",
       "      <td>1</td>\n",
       "    </tr>\n",
       "  </tbody>\n",
       "</table>\n",
       "</div>"
      ],
      "text/plain": [
       "  Transaction ID       Date Day of Week  Time Type of Card Entry Mode Amount  \\\n",
       "0      #3577 209  14-Oct-20   Wednesday    19         Visa        Tap     £5   \n",
       "1      #3039 221  14-Oct-20   Wednesday    17   MasterCard        PIN   £288   \n",
       "2      #2694 780  14-Oct-20   Wednesday    14         Visa        Tap     £5   \n",
       "3      #2640 960  13-Oct-20     Tuesday    14         Visa        Tap    £28   \n",
       "4      #2771 031  13-Oct-20     Tuesday    23         Visa        CVC    £91   \n",
       "\n",
       "  Type of Transaction Merchant Group Country of Transaction Shipping Address  \\\n",
       "0                 POS  Entertainment         United Kingdom   United Kingdom   \n",
       "1                 POS       Services                    USA              USA   \n",
       "2                 POS     Restaurant                  India            India   \n",
       "3                 POS  Entertainment         United Kingdom            India   \n",
       "4              Online    Electronics                    USA              USA   \n",
       "\n",
       "  Country of Residence Gender   Age      Bank  Fraud  \n",
       "0       United Kingdom      M  25.2       RBS      0  \n",
       "1                  USA      F  49.6    Lloyds      0  \n",
       "2                India      F  42.2  Barclays      0  \n",
       "3       United Kingdom      F  51.0  Barclays      0  \n",
       "4       United Kingdom      M  38.0   Halifax      1  "
      ]
     },
     "execution_count": 7,
     "metadata": {},
     "output_type": "execute_result"
    }
   ],
   "source": [
    "df.head()"
   ]
  },
  {
   "cell_type": "code",
   "execution_count": 8,
   "id": "d6e6860b",
   "metadata": {},
   "outputs": [
    {
     "name": "stdout",
     "output_type": "stream",
     "text": [
      "<class 'pandas.core.frame.DataFrame'>\n",
      "RangeIndex: 100000 entries, 0 to 99999\n",
      "Data columns (total 16 columns):\n",
      " #   Column                  Non-Null Count   Dtype  \n",
      "---  ------                  --------------   -----  \n",
      " 0   Transaction ID          100000 non-null  object \n",
      " 1   Date                    100000 non-null  object \n",
      " 2   Day of Week             100000 non-null  object \n",
      " 3   Time                    100000 non-null  int64  \n",
      " 4   Type of Card            100000 non-null  object \n",
      " 5   Entry Mode              100000 non-null  object \n",
      " 6   Amount                  99994 non-null   object \n",
      " 7   Type of Transaction     100000 non-null  object \n",
      " 8   Merchant Group          99990 non-null   object \n",
      " 9   Country of Transaction  100000 non-null  object \n",
      " 10  Shipping Address        99995 non-null   object \n",
      " 11  Country of Residence    100000 non-null  object \n",
      " 12  Gender                  99996 non-null   object \n",
      " 13  Age                     100000 non-null  float64\n",
      " 14  Bank                    100000 non-null  object \n",
      " 15  Fraud                   100000 non-null  int64  \n",
      "dtypes: float64(1), int64(2), object(13)\n",
      "memory usage: 12.2+ MB\n",
      "None\n"
     ]
    }
   ],
   "source": [
    "print(df.info())"
   ]
  }
 ],
 "metadata": {
  "kernelspec": {
   "display_name": "venv (3.11.5)",
   "language": "python",
   "name": "python3"
  },
  "language_info": {
   "codemirror_mode": {
    "name": "ipython",
    "version": 3
   },
   "file_extension": ".py",
   "mimetype": "text/x-python",
   "name": "python",
   "nbconvert_exporter": "python",
   "pygments_lexer": "ipython3",
   "version": "3.11.5"
  }
 },
 "nbformat": 4,
 "nbformat_minor": 5
}
