{
  "nbformat": 4,
  "nbformat_minor": 0,
  "metadata": {
    "colab": {
      "provenance": []
    },
    "kernelspec": {
      "name": "python3",
      "display_name": "Python 3"
    },
    "language_info": {
      "name": "python"
    }
  },
  "cells": [
    {
      "cell_type": "code",
      "execution_count": null,
      "metadata": {
        "id": "f5Z7GGMOnl0P"
      },
      "outputs": [],
      "source": [
        "from google.colab import files\n",
        "import pandas as pd\n",
        "import io"
      ]
    },
    {
      "cell_type": "code",
      "source": [
        "uploaded = files.upload()"
      ],
      "metadata": {
        "colab": {
          "base_uri": "https://localhost:8080/",
          "height": 73
        },
        "id": "taTQZRSLn04x",
        "outputId": "d22848fc-f5f2-4a8d-b65a-a4703a7a5679"
      },
      "execution_count": null,
      "outputs": [
        {
          "output_type": "display_data",
          "data": {
            "text/plain": [
              "<IPython.core.display.HTML object>"
            ],
            "text/html": [
              "\n",
              "     <input type=\"file\" id=\"files-6402357f-6048-4782-be81-bf0788b74f2b\" name=\"files[]\" multiple disabled\n",
              "        style=\"border:none\" />\n",
              "     <output id=\"result-6402357f-6048-4782-be81-bf0788b74f2b\">\n",
              "      Upload widget is only available when the cell has been executed in the\n",
              "      current browser session. Please rerun this cell to enable.\n",
              "      </output>\n",
              "      <script>// Copyright 2017 Google LLC\n",
              "//\n",
              "// Licensed under the Apache License, Version 2.0 (the \"License\");\n",
              "// you may not use this file except in compliance with the License.\n",
              "// You may obtain a copy of the License at\n",
              "//\n",
              "//      http://www.apache.org/licenses/LICENSE-2.0\n",
              "//\n",
              "// Unless required by applicable law or agreed to in writing, software\n",
              "// distributed under the License is distributed on an \"AS IS\" BASIS,\n",
              "// WITHOUT WARRANTIES OR CONDITIONS OF ANY KIND, either express or implied.\n",
              "// See the License for the specific language governing permissions and\n",
              "// limitations under the License.\n",
              "\n",
              "/**\n",
              " * @fileoverview Helpers for google.colab Python module.\n",
              " */\n",
              "(function(scope) {\n",
              "function span(text, styleAttributes = {}) {\n",
              "  const element = document.createElement('span');\n",
              "  element.textContent = text;\n",
              "  for (const key of Object.keys(styleAttributes)) {\n",
              "    element.style[key] = styleAttributes[key];\n",
              "  }\n",
              "  return element;\n",
              "}\n",
              "\n",
              "// Max number of bytes which will be uploaded at a time.\n",
              "const MAX_PAYLOAD_SIZE = 100 * 1024;\n",
              "\n",
              "function _uploadFiles(inputId, outputId) {\n",
              "  const steps = uploadFilesStep(inputId, outputId);\n",
              "  const outputElement = document.getElementById(outputId);\n",
              "  // Cache steps on the outputElement to make it available for the next call\n",
              "  // to uploadFilesContinue from Python.\n",
              "  outputElement.steps = steps;\n",
              "\n",
              "  return _uploadFilesContinue(outputId);\n",
              "}\n",
              "\n",
              "// This is roughly an async generator (not supported in the browser yet),\n",
              "// where there are multiple asynchronous steps and the Python side is going\n",
              "// to poll for completion of each step.\n",
              "// This uses a Promise to block the python side on completion of each step,\n",
              "// then passes the result of the previous step as the input to the next step.\n",
              "function _uploadFilesContinue(outputId) {\n",
              "  const outputElement = document.getElementById(outputId);\n",
              "  const steps = outputElement.steps;\n",
              "\n",
              "  const next = steps.next(outputElement.lastPromiseValue);\n",
              "  return Promise.resolve(next.value.promise).then((value) => {\n",
              "    // Cache the last promise value to make it available to the next\n",
              "    // step of the generator.\n",
              "    outputElement.lastPromiseValue = value;\n",
              "    return next.value.response;\n",
              "  });\n",
              "}\n",
              "\n",
              "/**\n",
              " * Generator function which is called between each async step of the upload\n",
              " * process.\n",
              " * @param {string} inputId Element ID of the input file picker element.\n",
              " * @param {string} outputId Element ID of the output display.\n",
              " * @return {!Iterable<!Object>} Iterable of next steps.\n",
              " */\n",
              "function* uploadFilesStep(inputId, outputId) {\n",
              "  const inputElement = document.getElementById(inputId);\n",
              "  inputElement.disabled = false;\n",
              "\n",
              "  const outputElement = document.getElementById(outputId);\n",
              "  outputElement.innerHTML = '';\n",
              "\n",
              "  const pickedPromise = new Promise((resolve) => {\n",
              "    inputElement.addEventListener('change', (e) => {\n",
              "      resolve(e.target.files);\n",
              "    });\n",
              "  });\n",
              "\n",
              "  const cancel = document.createElement('button');\n",
              "  inputElement.parentElement.appendChild(cancel);\n",
              "  cancel.textContent = 'Cancel upload';\n",
              "  const cancelPromise = new Promise((resolve) => {\n",
              "    cancel.onclick = () => {\n",
              "      resolve(null);\n",
              "    };\n",
              "  });\n",
              "\n",
              "  // Wait for the user to pick the files.\n",
              "  const files = yield {\n",
              "    promise: Promise.race([pickedPromise, cancelPromise]),\n",
              "    response: {\n",
              "      action: 'starting',\n",
              "    }\n",
              "  };\n",
              "\n",
              "  cancel.remove();\n",
              "\n",
              "  // Disable the input element since further picks are not allowed.\n",
              "  inputElement.disabled = true;\n",
              "\n",
              "  if (!files) {\n",
              "    return {\n",
              "      response: {\n",
              "        action: 'complete',\n",
              "      }\n",
              "    };\n",
              "  }\n",
              "\n",
              "  for (const file of files) {\n",
              "    const li = document.createElement('li');\n",
              "    li.append(span(file.name, {fontWeight: 'bold'}));\n",
              "    li.append(span(\n",
              "        `(${file.type || 'n/a'}) - ${file.size} bytes, ` +\n",
              "        `last modified: ${\n",
              "            file.lastModifiedDate ? file.lastModifiedDate.toLocaleDateString() :\n",
              "                                    'n/a'} - `));\n",
              "    const percent = span('0% done');\n",
              "    li.appendChild(percent);\n",
              "\n",
              "    outputElement.appendChild(li);\n",
              "\n",
              "    const fileDataPromise = new Promise((resolve) => {\n",
              "      const reader = new FileReader();\n",
              "      reader.onload = (e) => {\n",
              "        resolve(e.target.result);\n",
              "      };\n",
              "      reader.readAsArrayBuffer(file);\n",
              "    });\n",
              "    // Wait for the data to be ready.\n",
              "    let fileData = yield {\n",
              "      promise: fileDataPromise,\n",
              "      response: {\n",
              "        action: 'continue',\n",
              "      }\n",
              "    };\n",
              "\n",
              "    // Use a chunked sending to avoid message size limits. See b/62115660.\n",
              "    let position = 0;\n",
              "    do {\n",
              "      const length = Math.min(fileData.byteLength - position, MAX_PAYLOAD_SIZE);\n",
              "      const chunk = new Uint8Array(fileData, position, length);\n",
              "      position += length;\n",
              "\n",
              "      const base64 = btoa(String.fromCharCode.apply(null, chunk));\n",
              "      yield {\n",
              "        response: {\n",
              "          action: 'append',\n",
              "          file: file.name,\n",
              "          data: base64,\n",
              "        },\n",
              "      };\n",
              "\n",
              "      let percentDone = fileData.byteLength === 0 ?\n",
              "          100 :\n",
              "          Math.round((position / fileData.byteLength) * 100);\n",
              "      percent.textContent = `${percentDone}% done`;\n",
              "\n",
              "    } while (position < fileData.byteLength);\n",
              "  }\n",
              "\n",
              "  // All done.\n",
              "  yield {\n",
              "    response: {\n",
              "      action: 'complete',\n",
              "    }\n",
              "  };\n",
              "}\n",
              "\n",
              "scope.google = scope.google || {};\n",
              "scope.google.colab = scope.google.colab || {};\n",
              "scope.google.colab._files = {\n",
              "  _uploadFiles,\n",
              "  _uploadFilesContinue,\n",
              "};\n",
              "})(self);\n",
              "</script> "
            ]
          },
          "metadata": {}
        },
        {
          "output_type": "stream",
          "name": "stdout",
          "text": [
            "Saving CreditCardData_15000.csv to CreditCardData_15000.csv\n"
          ]
        }
      ]
    },
    {
      "cell_type": "markdown",
      "source": [
        "Load the CSV into a dataframe"
      ],
      "metadata": {
        "id": "0COwR_P7n-7G"
      }
    },
    {
      "cell_type": "code",
      "source": [
        "df = pd.read_csv('CreditCardData_15000.csv')"
      ],
      "metadata": {
        "id": "EgMFCaMooBiX"
      },
      "execution_count": null,
      "outputs": []
    },
    {
      "cell_type": "code",
      "source": [
        "print(df.shape)\n",
        "print(df.head())"
      ],
      "metadata": {
        "colab": {
          "base_uri": "https://localhost:8080/"
        },
        "id": "QujrmF3BoIgY",
        "outputId": "d756c813-95bb-45a2-8e6a-3fc88663aa95"
      },
      "execution_count": null,
      "outputs": [
        {
          "output_type": "stream",
          "name": "stdout",
          "text": [
            "(15000, 16)\n",
            "  Transaction ID       Date Day of Week  Time Type of Card Entry Mode Amount  \\\n",
            "0      #2800 777  14-Oct-20   Wednesday    19         Visa        CVC    £21   \n",
            "1      #3546 149  13-Oct-20     Tuesday     0         Visa        CVC     £6   \n",
            "2      #3203 063  13-Oct-20     Tuesday     9   MasterCard        PIN     £7   \n",
            "3      #2654 293  14-Oct-20   Wednesday    20         Visa        CVC    £17   \n",
            "4      #3195 835  14-Oct-20   Wednesday    11         Visa        CVC    £27   \n",
            "\n",
            "  Type of Transaction Merchant Group Country of Transaction Shipping Address  \\\n",
            "0              Online         Gaming         United Kingdom            China   \n",
            "1              Online         Gaming                 Russia           Russia   \n",
            "2                 ATM  Entertainment         United Kingdom   United Kingdom   \n",
            "3              Online       Children         United Kingdom            China   \n",
            "4              Online           Food         United Kingdom            India   \n",
            "\n",
            "  Country of Residence Gender   Age      Bank  Fraud  \n",
            "0       United Kingdom      M  46.1    Lloyds      0  \n",
            "1       United Kingdom      M  52.0     Metro      1  \n",
            "2       United Kingdom      M  43.9     Monzo      0  \n",
            "3       United Kingdom      F  31.5  Barclays      1  \n",
            "4       United Kingdom      F  33.8  Barlcays      1  \n"
          ]
        }
      ]
    },
    {
      "cell_type": "code",
      "source": [
        "print(\"\\nData types:\")\n",
        "print(df.dtypes)"
      ],
      "metadata": {
        "colab": {
          "base_uri": "https://localhost:8080/"
        },
        "id": "0jmqpwjqojfG",
        "outputId": "219ec47d-0a6f-4329-e93d-a7f3bba545b5"
      },
      "execution_count": null,
      "outputs": [
        {
          "output_type": "stream",
          "name": "stdout",
          "text": [
            "\n",
            "Data types:\n",
            "Transaction ID             object\n",
            "Date                       object\n",
            "Day of Week                object\n",
            "Time                        int64\n",
            "Type of Card               object\n",
            "Entry Mode                 object\n",
            "Amount                     object\n",
            "Type of Transaction        object\n",
            "Merchant Group             object\n",
            "Country of Transaction     object\n",
            "Shipping Address           object\n",
            "Country of Residence       object\n",
            "Gender                     object\n",
            "Age                       float64\n",
            "Bank                       object\n",
            "Fraud                       int64\n",
            "dtype: object\n"
          ]
        }
      ]
    },
    {
      "cell_type": "code",
      "source": [
        "print(\"\\nMissing values:\")\n",
        "print(df.isnull().sum())"
      ],
      "metadata": {
        "colab": {
          "base_uri": "https://localhost:8080/"
        },
        "id": "gBtlfGDFol9V",
        "outputId": "50bff674-03af-485d-b375-f2c0f562a3f5"
      },
      "execution_count": null,
      "outputs": [
        {
          "output_type": "stream",
          "name": "stdout",
          "text": [
            "\n",
            "Missing values:\n",
            "Transaction ID            0\n",
            "Date                      0\n",
            "Day of Week               0\n",
            "Time                      0\n",
            "Type of Card              0\n",
            "Entry Mode                0\n",
            "Amount                    3\n",
            "Type of Transaction       0\n",
            "Merchant Group            0\n",
            "Country of Transaction    0\n",
            "Shipping Address          0\n",
            "Country of Residence      0\n",
            "Gender                    1\n",
            "Age                       0\n",
            "Bank                      0\n",
            "Fraud                     0\n",
            "dtype: int64\n"
          ]
        }
      ]
    },
    {
      "cell_type": "markdown",
      "source": [
        "Handle Missing Values"
      ],
      "metadata": {
        "id": "0L62fqEloufU"
      }
    },
    {
      "cell_type": "code",
      "source": [
        "# Check missing values\n",
        "print(\"Missing values before cleaning:\")\n",
        "print(df.isnull().sum())"
      ],
      "metadata": {
        "colab": {
          "base_uri": "https://localhost:8080/"
        },
        "id": "xwEHR61Oovir",
        "outputId": "8f2b8cc4-ed44-45f6-bc3c-9652a507077a"
      },
      "execution_count": null,
      "outputs": [
        {
          "output_type": "stream",
          "name": "stdout",
          "text": [
            "Missing values before cleaning:\n",
            "Transaction ID            0\n",
            "Date                      0\n",
            "Day of Week               0\n",
            "Time                      0\n",
            "Type of Card              0\n",
            "Entry Mode                0\n",
            "Amount                    3\n",
            "Type of Transaction       0\n",
            "Merchant Group            0\n",
            "Country of Transaction    0\n",
            "Shipping Address          0\n",
            "Country of Residence      0\n",
            "Gender                    1\n",
            "Age                       0\n",
            "Bank                      0\n",
            "Fraud                     0\n",
            "dtype: int64\n"
          ]
        }
      ]
    },
    {
      "cell_type": "code",
      "source": [
        "# Remove rows with missing Amount values (only 3 rows)\n",
        "df = df.dropna(subset=['Amount'])"
      ],
      "metadata": {
        "id": "6Eir11J2o8oW"
      },
      "execution_count": null,
      "outputs": []
    },
    {
      "cell_type": "code",
      "source": [
        "# Fill missing gender value with mode (most frequent value)\n",
        "df['Gender'] = df['Gender'].fillna(df['Gender'].mode()[0])"
      ],
      "metadata": {
        "id": "A-RjNXi_pFCw"
      },
      "execution_count": null,
      "outputs": []
    },
    {
      "cell_type": "code",
      "source": [
        "print(\"\\nMissing values after cleaning:\")\n",
        "print(df.isnull().sum())"
      ],
      "metadata": {
        "colab": {
          "base_uri": "https://localhost:8080/"
        },
        "id": "-2X4kI93qFdU",
        "outputId": "9670098a-1f0e-4664-c936-78020f963f77"
      },
      "execution_count": null,
      "outputs": [
        {
          "output_type": "stream",
          "name": "stdout",
          "text": [
            "\n",
            "Missing values after cleaning:\n",
            "Transaction ID            0\n",
            "Date                      0\n",
            "Day of Week               0\n",
            "Time                      0\n",
            "Type of Card              0\n",
            "Entry Mode                0\n",
            "Amount                    0\n",
            "Type of Transaction       0\n",
            "Merchant Group            0\n",
            "Country of Transaction    0\n",
            "Shipping Address          0\n",
            "Country of Residence      0\n",
            "Gender                    0\n",
            "Age                       0\n",
            "Bank                      0\n",
            "Fraud                     0\n",
            "dtype: int64\n"
          ]
        }
      ]
    },
    {
      "cell_type": "code",
      "source": [
        "# Remove currency symbol (£) and convert to float\n",
        "df['Amount'] = df['Amount'].str.replace('£', '').astype(float)"
      ],
      "metadata": {
        "id": "YhoePYTWqP0C"
      },
      "execution_count": null,
      "outputs": []
    },
    {
      "cell_type": "markdown",
      "source": [
        "Amount column after conversion"
      ],
      "metadata": {
        "id": "3Czk5wdRqiih"
      }
    },
    {
      "cell_type": "code",
      "source": [
        "print(df['Amount'].head())"
      ],
      "metadata": {
        "colab": {
          "base_uri": "https://localhost:8080/"
        },
        "id": "kGnGFruQqmcZ",
        "outputId": "83a2fc28-eb7f-40a9-f914-194f49b277fc"
      },
      "execution_count": null,
      "outputs": [
        {
          "output_type": "stream",
          "name": "stdout",
          "text": [
            "0    21.0\n",
            "1     6.0\n",
            "2     7.0\n",
            "3    17.0\n",
            "4    27.0\n",
            "Name: Amount, dtype: float64\n"
          ]
        }
      ]
    },
    {
      "cell_type": "code",
      "source": [
        "print(f\"Data type: {df['Amount'].dtype}\")"
      ],
      "metadata": {
        "colab": {
          "base_uri": "https://localhost:8080/"
        },
        "id": "7FIhaBzsqsSe",
        "outputId": "a70e3760-6133-474b-a916-fa82b823657f"
      },
      "execution_count": null,
      "outputs": [
        {
          "output_type": "stream",
          "name": "stdout",
          "text": [
            "Data type: float64\n"
          ]
        }
      ]
    },
    {
      "cell_type": "markdown",
      "source": [
        "Drop Unnecessary Columns"
      ],
      "metadata": {
        "id": "HzbebZV9q1S0"
      }
    },
    {
      "cell_type": "code",
      "source": [
        "# Transaction ID is a unique identifier with no predictive value\n",
        "df = df.drop('Transaction ID', axis=1)"
      ],
      "metadata": {
        "id": "nP74fpw7q2Yp"
      },
      "execution_count": null,
      "outputs": []
    },
    {
      "cell_type": "code",
      "source": [
        "print(\"\\nColumns after dropping Transaction ID:\")\n",
        "print(df.columns.tolist())"
      ],
      "metadata": {
        "colab": {
          "base_uri": "https://localhost:8080/"
        },
        "id": "dXWlBl4krFAn",
        "outputId": "818ead79-1428-4235-db6c-1b8a5b315174"
      },
      "execution_count": null,
      "outputs": [
        {
          "output_type": "stream",
          "name": "stdout",
          "text": [
            "\n",
            "Columns after dropping Transaction ID:\n",
            "['Date', 'Day of Week', 'Time', 'Type of Card', 'Entry Mode', 'Amount', 'Type of Transaction', 'Merchant Group', 'Country of Transaction', 'Shipping Address', 'Country of Residence', 'Gender', 'Age', 'Bank', 'Fraud']\n"
          ]
        }
      ]
    },
    {
      "cell_type": "code",
      "source": [
        "# Drop Date column since Day of Week already captures temporal patterns\n",
        "df = df.drop('Date', axis=1)"
      ],
      "metadata": {
        "id": "D9FANk5ersDg"
      },
      "execution_count": null,
      "outputs": []
    },
    {
      "cell_type": "code",
      "source": [
        "print(df.columns.tolist())"
      ],
      "metadata": {
        "colab": {
          "base_uri": "https://localhost:8080/"
        },
        "id": "mML6sRfxs4Zs",
        "outputId": "fcd2215a-f835-449f-b965-0404cdad1960"
      },
      "execution_count": null,
      "outputs": [
        {
          "output_type": "stream",
          "name": "stdout",
          "text": [
            "['Day of Week', 'Time', 'Type of Card', 'Entry Mode', 'Amount', 'Type of Transaction', 'Merchant Group', 'Country of Transaction', 'Shipping Address', 'Country of Residence', 'Gender', 'Age', 'Bank', 'Fraud']\n"
          ]
        }
      ]
    },
    {
      "cell_type": "markdown",
      "source": [
        "Encode Binary Categorical Variables"
      ],
      "metadata": {
        "id": "i8JzTqdMte-j"
      }
    },
    {
      "cell_type": "code",
      "source": [
        "# Binary encoding for Gender (M=1, F=0)\n",
        "df['Gender'] = df['Gender'].map({'M': 1, 'F': 0})"
      ],
      "metadata": {
        "id": "rX9eEpgKtf6I"
      },
      "execution_count": null,
      "outputs": []
    },
    {
      "cell_type": "code",
      "source": [
        "# Binary encoding for Type of Card\n",
        "df['Type of Card'] = df['Type of Card'].map({'Visa': 1, 'MasterCard': 0})"
      ],
      "metadata": {
        "id": "6wHcTVf9tm3Q"
      },
      "execution_count": null,
      "outputs": []
    },
    {
      "cell_type": "code",
      "source": [
        "print(df[['Gender', 'Type of Card']].head())"
      ],
      "metadata": {
        "colab": {
          "base_uri": "https://localhost:8080/"
        },
        "id": "ZKyfFXNbtrwY",
        "outputId": "ee9dafff-ffa0-4586-8585-19e014a613a6"
      },
      "execution_count": null,
      "outputs": [
        {
          "output_type": "stream",
          "name": "stdout",
          "text": [
            "   Gender  Type of Card\n",
            "0       1             1\n",
            "1       1             1\n",
            "2       1             0\n",
            "3       0             1\n",
            "4       0             1\n"
          ]
        }
      ]
    },
    {
      "cell_type": "markdown",
      "source": [
        "Label Encoding for Day of Week"
      ],
      "metadata": {
        "id": "iIQoN1mQt12m"
      }
    },
    {
      "cell_type": "code",
      "source": [
        "# Label encode Day of Week\n",
        "day_mapping = {\n",
        "    'Monday': 0,\n",
        "    'Tuesday': 1,\n",
        "    'Wednesday': 2,\n",
        "    'Thursday': 3,\n",
        "    'Friday': 4,\n",
        "    'Saturday': 5,\n",
        "    'Sunday': 6\n",
        "}\n",
        "df['Day of Week'] = df['Day of Week'].map(day_mapping)"
      ],
      "metadata": {
        "id": "GGmBIM09t2t5"
      },
      "execution_count": null,
      "outputs": []
    },
    {
      "cell_type": "code",
      "source": [
        "print(df['Day of Week'].value_counts().sort_index())"
      ],
      "metadata": {
        "colab": {
          "base_uri": "https://localhost:8080/"
        },
        "id": "r61pWBSduEKw",
        "outputId": "ad295da0-d0be-48d8-e73d-b4b1514c1a25"
      },
      "execution_count": null,
      "outputs": [
        {
          "output_type": "stream",
          "name": "stdout",
          "text": [
            "Day of Week\n",
            "1    7516\n",
            "2    7477\n",
            "3       2\n",
            "4       2\n",
            "Name: count, dtype: int64\n"
          ]
        }
      ]
    },
    {
      "cell_type": "markdown",
      "source": [
        "One-Hot Encoding for Nominal Variables"
      ],
      "metadata": {
        "id": "14IhM_nquNdJ"
      }
    },
    {
      "cell_type": "code",
      "source": [
        "# One-hot encode nominal categorical variables\n",
        "categorical_cols = [\n",
        "    'Entry Mode',\n",
        "    'Type of Transaction',\n",
        "    'Merchant Group',\n",
        "    'Country of Transaction',\n",
        "    'Shipping Address',\n",
        "    'Country of Residence',\n",
        "    'Bank'\n",
        "]\n",
        "\n",
        "print(f\"\\nShape before one-hot encoding: {df.shape}\")"
      ],
      "metadata": {
        "colab": {
          "base_uri": "https://localhost:8080/"
        },
        "id": "IMFldYTXuOcK",
        "outputId": "aeaff16d-e15b-481f-fe61-6cd451adb536"
      },
      "execution_count": null,
      "outputs": [
        {
          "output_type": "stream",
          "name": "stdout",
          "text": [
            "\n",
            "Shape before one-hot encoding: (14997, 14)\n"
          ]
        }
      ]
    },
    {
      "cell_type": "code",
      "source": [
        "# Apply one-hot encoding\n",
        "df_encoded = pd.get_dummies(df, columns=categorical_cols, drop_first=True)\n",
        "\n",
        "print(f\"Shape after one-hot encoding: {df_encoded.shape}\")"
      ],
      "metadata": {
        "colab": {
          "base_uri": "https://localhost:8080/"
        },
        "id": "KQzRcBhwuiQz",
        "outputId": "95e26fcb-61e0-4f74-aea7-0a32e39ad5e9"
      },
      "execution_count": null,
      "outputs": [
        {
          "output_type": "stream",
          "name": "stdout",
          "text": [
            "Shape after one-hot encoding: (14997, 39)\n"
          ]
        }
      ]
    },
    {
      "cell_type": "code",
      "source": [
        "print(f\"New columns created: {df_encoded.shape[1] - df.shape[1]}\")"
      ],
      "metadata": {
        "colab": {
          "base_uri": "https://localhost:8080/"
        },
        "id": "qSdqS9tzuor-",
        "outputId": "571e0b66-55af-40bb-f8dd-8f0b2b1b80e3"
      },
      "execution_count": null,
      "outputs": [
        {
          "output_type": "stream",
          "name": "stdout",
          "text": [
            "New columns created: 25\n"
          ]
        }
      ]
    },
    {
      "cell_type": "code",
      "source": [
        "print(df_encoded.shape[1])"
      ],
      "metadata": {
        "colab": {
          "base_uri": "https://localhost:8080/"
        },
        "id": "L_TYphB2vkEj",
        "outputId": "20a11726-a10f-4d55-e00a-88ec473242b7"
      },
      "execution_count": null,
      "outputs": [
        {
          "output_type": "stream",
          "name": "stdout",
          "text": [
            "39\n"
          ]
        }
      ]
    },
    {
      "cell_type": "markdown",
      "source": [
        "Final Dataset"
      ],
      "metadata": {
        "id": "FvhdTs5Av-Qe"
      }
    },
    {
      "cell_type": "code",
      "source": [
        "# Check final dataset\n",
        "print(\"\\n\" + \"=\"*80)\n",
        "print(\"Final Dataset Information:\")\n",
        "print(\"=\"*80)\n",
        "print(f\"Shape: {df_encoded.shape}\")\n",
        "print(f\"\\nColumn names:\")\n",
        "print(df_encoded.columns.tolist())"
      ],
      "metadata": {
        "colab": {
          "base_uri": "https://localhost:8080/"
        },
        "id": "wJ3HIth6wBCP",
        "outputId": "5c3a8c0d-0f01-4bed-b64f-46fe82fc4bd1"
      },
      "execution_count": null,
      "outputs": [
        {
          "output_type": "stream",
          "name": "stdout",
          "text": [
            "\n",
            "================================================================================\n",
            "Final Dataset Information:\n",
            "================================================================================\n",
            "Shape: (14997, 39)\n",
            "\n",
            "Column names:\n",
            "['Day of Week', 'Time', 'Type of Card', 'Amount', 'Gender', 'Age', 'Fraud', 'Entry Mode_PIN', 'Entry Mode_Tap', 'Type of Transaction_Online', 'Type of Transaction_POS', 'Merchant Group_Electronics', 'Merchant Group_Entertainment', 'Merchant Group_Fashion', 'Merchant Group_Food', 'Merchant Group_Gaming', 'Merchant Group_Products', 'Merchant Group_Restaurant', 'Merchant Group_Services', 'Merchant Group_Subscription', 'Country of Transaction_India', 'Country of Transaction_Russia', 'Country of Transaction_USA', 'Country of Transaction_United Kingdom', 'Shipping Address_India', 'Shipping Address_Russia', 'Shipping Address_USA', 'Shipping Address_United Kingdom', 'Country of Residence_India', 'Country of Residence_Russia', 'Country of Residence_USA', 'Country of Residence_United Kingdom', 'Bank_Barlcays', 'Bank_HSBC', 'Bank_Halifax', 'Bank_Lloyds', 'Bank_Metro', 'Bank_Monzo', 'Bank_RBS']\n"
          ]
        }
      ]
    },
    {
      "cell_type": "code",
      "source": [
        "# Check data types\n",
        "print(f\"\\nData types summary:\")\n",
        "print(df_encoded.dtypes.value_counts())"
      ],
      "metadata": {
        "colab": {
          "base_uri": "https://localhost:8080/"
        },
        "id": "xyRE7zVzwmsF",
        "outputId": "634766f1-d612-4e3d-f2f0-baf7953fa5bc"
      },
      "execution_count": null,
      "outputs": [
        {
          "output_type": "stream",
          "name": "stdout",
          "text": [
            "\n",
            "Data types summary:\n",
            "bool       32\n",
            "int64       5\n",
            "float64     2\n",
            "Name: count, dtype: int64\n"
          ]
        }
      ]
    },
    {
      "cell_type": "code",
      "source": [
        "# Check for missing values\n",
        "print(f\"\\nMissing values: {df_encoded.isnull().sum().sum()}\")"
      ],
      "metadata": {
        "colab": {
          "base_uri": "https://localhost:8080/"
        },
        "id": "S9MCLmX9woO6",
        "outputId": "6a61a554-0e06-4e3b-a4ec-b5738e70eb78"
      },
      "execution_count": null,
      "outputs": [
        {
          "output_type": "stream",
          "name": "stdout",
          "text": [
            "\n",
            "Missing values: 0\n"
          ]
        }
      ]
    },
    {
      "cell_type": "code",
      "source": [
        "# Check for any remaining non-numeric columns\n",
        "non_numeric = df_encoded.select_dtypes(include=['object']).columns.tolist()\n",
        "print(f\"\\nNon-numeric columns remaining: {non_numeric}\")"
      ],
      "metadata": {
        "colab": {
          "base_uri": "https://localhost:8080/"
        },
        "id": "nDMuk74AwvQn",
        "outputId": "8fb86f93-4eda-40ff-9920-03878331b81d"
      },
      "execution_count": null,
      "outputs": [
        {
          "output_type": "stream",
          "name": "stdout",
          "text": [
            "\n",
            "Non-numeric columns remaining: []\n"
          ]
        }
      ]
    },
    {
      "cell_type": "code",
      "source": [
        "# Display first few rows\n",
        "print(\"\\nFirst 5 rows of encoded dataset:\")\n",
        "print(df_encoded.head())"
      ],
      "metadata": {
        "colab": {
          "base_uri": "https://localhost:8080/"
        },
        "id": "wy6m5MQAw2bo",
        "outputId": "553edd89-b9ea-4809-e12a-889ebebb9059"
      },
      "execution_count": null,
      "outputs": [
        {
          "output_type": "stream",
          "name": "stdout",
          "text": [
            "\n",
            "First 5 rows of encoded dataset:\n",
            "   Day of Week  Time  Type of Card  Amount  Gender   Age  Fraud  \\\n",
            "0            2    19             1    21.0       1  46.1      0   \n",
            "1            1     0             1     6.0       1  52.0      1   \n",
            "2            1     9             0     7.0       1  43.9      0   \n",
            "3            2    20             1    17.0       0  31.5      1   \n",
            "4            2    11             1    27.0       0  33.8      1   \n",
            "\n",
            "   Entry Mode_PIN  Entry Mode_Tap  Type of Transaction_Online  ...  \\\n",
            "0           False           False                        True  ...   \n",
            "1           False           False                        True  ...   \n",
            "2            True           False                       False  ...   \n",
            "3           False           False                        True  ...   \n",
            "4           False           False                        True  ...   \n",
            "\n",
            "   Country of Residence_Russia  Country of Residence_USA  \\\n",
            "0                        False                     False   \n",
            "1                        False                     False   \n",
            "2                        False                     False   \n",
            "3                        False                     False   \n",
            "4                        False                     False   \n",
            "\n",
            "   Country of Residence_United Kingdom  Bank_Barlcays  Bank_HSBC  \\\n",
            "0                                 True          False      False   \n",
            "1                                 True          False      False   \n",
            "2                                 True          False      False   \n",
            "3                                 True          False      False   \n",
            "4                                 True           True      False   \n",
            "\n",
            "   Bank_Halifax  Bank_Lloyds  Bank_Metro  Bank_Monzo  Bank_RBS  \n",
            "0         False         True       False       False     False  \n",
            "1         False        False        True       False     False  \n",
            "2         False        False       False        True     False  \n",
            "3         False        False       False       False     False  \n",
            "4         False        False       False       False     False  \n",
            "\n",
            "[5 rows x 39 columns]\n"
          ]
        }
      ]
    },
    {
      "cell_type": "markdown",
      "source": [
        "Check Class Balance"
      ],
      "metadata": {
        "id": "jmIgrCZ0xXBw"
      }
    },
    {
      "cell_type": "code",
      "source": [
        "# Check fraud distribution\n",
        "print(\"\\n\" + \"=\"*80)\n",
        "print(\"Target Variable Distribution:\")\n",
        "print(\"=\"*80)\n",
        "print(df_encoded['Fraud'].value_counts())\n",
        "fraud_percentage = (df_encoded['Fraud'].sum() / len(df_encoded)) * 100\n",
        "print(f\"\\nFraud percentage: {fraud_percentage:.2f}%\")\n",
        "\n",
        "# Visualize\n",
        "import matplotlib.pyplot as plt\n",
        "\n",
        "plt.figure(figsize=(8, 5))\n",
        "df_encoded['Fraud'].value_counts().plot(kind='bar', color=['green', 'red'])\n",
        "plt.title('Fraud vs Non-Fraud Distribution')\n",
        "plt.xlabel('Class (0=Normal, 1=Fraud)')\n",
        "plt.ylabel('Count')\n",
        "plt.xticks(rotation=0)\n",
        "plt.show()\n"
      ],
      "metadata": {
        "colab": {
          "base_uri": "https://localhost:8080/",
          "height": 661
        },
        "id": "gJkxDnhZxXpn",
        "outputId": "15a14c63-2895-477c-d426-44b48fd50577"
      },
      "execution_count": null,
      "outputs": [
        {
          "output_type": "stream",
          "name": "stdout",
          "text": [
            "\n",
            "================================================================================\n",
            "Target Variable Distribution:\n",
            "================================================================================\n",
            "Fraud\n",
            "0    7805\n",
            "1    7192\n",
            "Name: count, dtype: int64\n",
            "\n",
            "Fraud percentage: 47.96%\n"
          ]
        },
        {
          "output_type": "display_data",
          "data": {
            "text/plain": [
              "<Figure size 800x500 with 1 Axes>"
            ],
            "image/png": "[encoded data removed]"
          },
          "metadata": {}
        }
      ]
    },
    {
      "cell_type": "markdown",
      "source": [
        "Save Cleaned Dataset"
      ],
      "metadata": {
        "id": "8wf6wej_xmVC"
      }
    },
    {
      "cell_type": "code",
      "source": [
        "# Save cleaned dataset\n",
        "df_encoded.to_csv('CreditCardData_Cleaned.csv', index=False)\n",
        "print(\"\\n\" + \"=\"*80)\n",
        "print(\"Dataset saved successfully!\")\n",
        "print(\"=\"*80)\n",
        "print(f\"File: CreditCardData_Cleaned.csv\")\n",
        "print(f\"Shape: {df_encoded.shape}\")\n"
      ],
      "metadata": {
        "colab": {
          "base_uri": "https://localhost:8080/"
        },
        "id": "vCXbzYCMxm3_",
        "outputId": "c722349e-e80a-4192-d7d0-b736c0b814f4"
      },
      "execution_count": null,
      "outputs": [
        {
          "output_type": "stream",
          "name": "stdout",
          "text": [
            "\n",
            "================================================================================\n",
            "Dataset saved successfully!\n",
            "================================================================================\n",
            "File: CreditCardData_Cleaned.csv\n",
            "Shape: (14997, 39)\n"
          ]
        }
      ]
    }
  ]
}