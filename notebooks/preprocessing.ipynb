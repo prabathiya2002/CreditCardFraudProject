{
 "cells": [
  {
   "cell_type": "code",
   "execution_count": 1,
   "id": "d8605906",
   "metadata": {},
   "outputs": [
    {
     "name": "stdout",
     "output_type": "stream",
     "text": [
      " Volume in drive C has no label.\n",
      " Volume Serial Number is 04FC-5BE8\n",
      "\n",
      " Directory of c:\\D_Drive\\DLproject\\CreditCardFraudProject\\notebooks\n",
      "\n",
      "10/06/2025  11:59 PM    <DIR>          .\n",
      "10/06/2025  11:59 PM    <DIR>          ..\n",
      "10/06/2025  11:44 PM                 2 .gitkeep\n",
      "10/08/2025  02:48 PM            10,792 preprocessing.ipynb\n",
      "               2 File(s)         10,794 bytes\n",
      "               2 Dir(s)  224,522,031,104 bytes free\n"
     ]
    }
   ],
   "source": [
    "!dir\n"
   ]
  },
  {
   "cell_type": "code",
   "execution_count": 2,
   "id": "9c7e5f1c",
   "metadata": {},
   "outputs": [
    {
     "name": "stdout",
     "output_type": "stream",
     "text": [
      "✅ All libraries are working!\n"
     ]
    }
   ],
   "source": [
    "import pandas as pd\n",
    "import numpy as np\n",
    "import sklearn\n",
    "import matplotlib\n",
    "import tensorflow as tf   # or torch, depending on what you use\n",
    "\n",
    "print(\"✅ All libraries are working!\")\n"
   ]
  },
  {
   "cell_type": "code",
   "execution_count": 3,
   "id": "4a1f7bcf",
   "metadata": {},
   "outputs": [
    {
     "name": "stdout",
     "output_type": "stream",
     "text": [
      "(100000, 16)\n",
      "<class 'pandas.core.frame.DataFrame'>\n",
      "RangeIndex: 100000 entries, 0 to 99999\n",
      "Data columns (total 16 columns):\n",
      " #   Column                  Non-Null Count   Dtype  \n",
      "---  ------                  --------------   -----  \n",
      " 0   Transaction ID          100000 non-null  object \n",
      " 1   Date                    100000 non-null  object \n",
      " 2   Day of Week             100000 non-null  object \n",
      " 3   Time                    100000 non-null  int64  \n",
      " 4   Type of Card            100000 non-null  object \n",
      " 5   Entry Mode              100000 non-null  object \n",
      " 6   Amount                  99994 non-null   object \n",
      " 7   Type of Transaction     100000 non-null  object \n",
      " 8   Merchant Group          99990 non-null   object \n",
      " 9   Country of Transaction  100000 non-null  object \n",
      " 10  Shipping Address        99995 non-null   object \n",
      " 11  Country of Residence    100000 non-null  object \n",
      " 12  Gender                  99996 non-null   object \n",
      " 13  Age                     100000 non-null  float64\n",
      " 14  Bank                    100000 non-null  object \n",
      " 15  Fraud                   100000 non-null  int64  \n",
      "dtypes: float64(1), int64(2), object(13)\n",
      "memory usage: 12.2+ MB\n",
      "None\n"
     ]
    },
    {
     "data": {
      "text/html": [
       "<div>\n",
       "<style scoped>\n",
       "    .dataframe tbody tr th:only-of-type {\n",
       "        vertical-align: middle;\n",
       "    }\n",
       "\n",
       "    .dataframe tbody tr th {\n",
       "        vertical-align: top;\n",
       "    }\n",
       "\n",
       "    .dataframe thead th {\n",
       "        text-align: right;\n",
       "    }\n",
       "</style>\n",
       "<table border=\"1\" class=\"dataframe\">\n",
       "  <thead>\n",
       "    <tr style=\"text-align: right;\">\n",
       "      <th></th>\n",
       "      <th>Transaction ID</th>\n",
       "      <th>Date</th>\n",
       "      <th>Day of Week</th>\n",
       "      <th>Time</th>\n",
       "      <th>Type of Card</th>\n",
       "      <th>Entry Mode</th>\n",
       "      <th>Amount</th>\n",
       "      <th>Type of Transaction</th>\n",
       "      <th>Merchant Group</th>\n",
       "      <th>Country of Transaction</th>\n",
       "      <th>Shipping Address</th>\n",
       "      <th>Country of Residence</th>\n",
       "      <th>Gender</th>\n",
       "      <th>Age</th>\n",
       "      <th>Bank</th>\n",
       "      <th>Fraud</th>\n",
       "    </tr>\n",
       "  </thead>\n",
       "  <tbody>\n",
       "    <tr>\n",
       "      <th>0</th>\n",
       "      <td>#3577 209</td>\n",
       "      <td>14-Oct-20</td>\n",
       "      <td>Wednesday</td>\n",
       "      <td>19</td>\n",
       "      <td>Visa</td>\n",
       "      <td>Tap</td>\n",
       "      <td>£5</td>\n",
       "      <td>POS</td>\n",
       "      <td>Entertainment</td>\n",
       "      <td>United Kingdom</td>\n",
       "      <td>United Kingdom</td>\n",
       "      <td>United Kingdom</td>\n",
       "      <td>M</td>\n",
       "      <td>25.2</td>\n",
       "      <td>RBS</td>\n",
       "      <td>0</td>\n",
       "    </tr>\n",
       "    <tr>\n",
       "      <th>1</th>\n",
       "      <td>#3039 221</td>\n",
       "      <td>14-Oct-20</td>\n",
       "      <td>Wednesday</td>\n",
       "      <td>17</td>\n",
       "      <td>MasterCard</td>\n",
       "      <td>PIN</td>\n",
       "      <td>£288</td>\n",
       "      <td>POS</td>\n",
       "      <td>Services</td>\n",
       "      <td>USA</td>\n",
       "      <td>USA</td>\n",
       "      <td>USA</td>\n",
       "      <td>F</td>\n",
       "      <td>49.6</td>\n",
       "      <td>Lloyds</td>\n",
       "      <td>0</td>\n",
       "    </tr>\n",
       "    <tr>\n",
       "      <th>2</th>\n",
       "      <td>#2694 780</td>\n",
       "      <td>14-Oct-20</td>\n",
       "      <td>Wednesday</td>\n",
       "      <td>14</td>\n",
       "      <td>Visa</td>\n",
       "      <td>Tap</td>\n",
       "      <td>£5</td>\n",
       "      <td>POS</td>\n",
       "      <td>Restaurant</td>\n",
       "      <td>India</td>\n",
       "      <td>India</td>\n",
       "      <td>India</td>\n",
       "      <td>F</td>\n",
       "      <td>42.2</td>\n",
       "      <td>Barclays</td>\n",
       "      <td>0</td>\n",
       "    </tr>\n",
       "    <tr>\n",
       "      <th>3</th>\n",
       "      <td>#2640 960</td>\n",
       "      <td>13-Oct-20</td>\n",
       "      <td>Tuesday</td>\n",
       "      <td>14</td>\n",
       "      <td>Visa</td>\n",
       "      <td>Tap</td>\n",
       "      <td>£28</td>\n",
       "      <td>POS</td>\n",
       "      <td>Entertainment</td>\n",
       "      <td>United Kingdom</td>\n",
       "      <td>India</td>\n",
       "      <td>United Kingdom</td>\n",
       "      <td>F</td>\n",
       "      <td>51.0</td>\n",
       "      <td>Barclays</td>\n",
       "      <td>0</td>\n",
       "    </tr>\n",
       "    <tr>\n",
       "      <th>4</th>\n",
       "      <td>#2771 031</td>\n",
       "      <td>13-Oct-20</td>\n",
       "      <td>Tuesday</td>\n",
       "      <td>23</td>\n",
       "      <td>Visa</td>\n",
       "      <td>CVC</td>\n",
       "      <td>£91</td>\n",
       "      <td>Online</td>\n",
       "      <td>Electronics</td>\n",
       "      <td>USA</td>\n",
       "      <td>USA</td>\n",
       "      <td>United Kingdom</td>\n",
       "      <td>M</td>\n",
       "      <td>38.0</td>\n",
       "      <td>Halifax</td>\n",
       "      <td>1</td>\n",
       "    </tr>\n",
       "  </tbody>\n",
       "</table>\n",
       "</div>"
      ],
      "text/plain": [
       "  Transaction ID       Date Day of Week  Time Type of Card Entry Mode Amount  \\\n",
       "0      #3577 209  14-Oct-20   Wednesday    19         Visa        Tap     £5   \n",
       "1      #3039 221  14-Oct-20   Wednesday    17   MasterCard        PIN   £288   \n",
       "2      #2694 780  14-Oct-20   Wednesday    14         Visa        Tap     £5   \n",
       "3      #2640 960  13-Oct-20     Tuesday    14         Visa        Tap    £28   \n",
       "4      #2771 031  13-Oct-20     Tuesday    23         Visa        CVC    £91   \n",
       "\n",
       "  Type of Transaction Merchant Group Country of Transaction Shipping Address  \\\n",
       "0                 POS  Entertainment         United Kingdom   United Kingdom   \n",
       "1                 POS       Services                    USA              USA   \n",
       "2                 POS     Restaurant                  India            India   \n",
       "3                 POS  Entertainment         United Kingdom            India   \n",
       "4              Online    Electronics                    USA              USA   \n",
       "\n",
       "  Country of Residence Gender   Age      Bank  Fraud  \n",
       "0       United Kingdom      M  25.2       RBS      0  \n",
       "1                  USA      F  49.6    Lloyds      0  \n",
       "2                India      F  42.2  Barclays      0  \n",
       "3       United Kingdom      F  51.0  Barclays      0  \n",
       "4       United Kingdom      M  38.0   Halifax      1  "
      ]
     },
     "execution_count": 3,
     "metadata": {},
     "output_type": "execute_result"
    }
   ],
   "source": [
    "file_path = r\"C:\\D_Drive\\DLproject\\CreditCardFraudProject\\data\\CreditCardData.csv\"\n",
    "\n",
    "df = pd.read_csv(file_path)\n",
    "\n",
    "\n",
    "print(df.shape)\n",
    "print(df.info())\n",
    "df.head()"
   ]
  },
  {
   "cell_type": "code",
   "execution_count": 4,
   "id": "3cea7605",
   "metadata": {},
   "outputs": [
    {
     "data": {
      "text/plain": [
       "Bank\n",
       "Barclays    29936\n",
       "Monzo       10103\n",
       "RBS         10046\n",
       "Metro       10012\n",
       "Barlcays     9993\n",
       "Halifax      9988\n",
       "Lloyds       9965\n",
       "HSBC         9957\n",
       "Name: count, dtype: int64"
      ]
     },
     "execution_count": 4,
     "metadata": {},
     "output_type": "execute_result"
    }
   ],
   "source": [
    "df['Bank'].value_counts()\n",
    "\n"
   ]
  },
  {
   "cell_type": "code",
   "execution_count": 5,
   "id": "61a5452f",
   "metadata": {},
   "outputs": [
    {
     "data": {
      "text/plain": [
       "Type of Card\n",
       "Visa          53812\n",
       "MasterCard    46188\n",
       "Name: count, dtype: int64"
      ]
     },
     "execution_count": 5,
     "metadata": {},
     "output_type": "execute_result"
    }
   ],
   "source": [
    "df['Type of Card'].value_counts()"
   ]
  },
  {
   "cell_type": "code",
   "execution_count": 6,
   "id": "9c9d5e81",
   "metadata": {},
   "outputs": [
    {
     "data": {
      "text/plain": [
       "Day of Week\n",
       "Wednesday    50177\n",
       "Tuesday      49797\n",
       "Friday          14\n",
       "Thursday        12\n",
       "Name: count, dtype: int64"
      ]
     },
     "execution_count": 6,
     "metadata": {},
     "output_type": "execute_result"
    }
   ],
   "source": [
    "df['Day of Week'].value_counts()"
   ]
  },
  {
   "cell_type": "code",
   "execution_count": 7,
   "id": "699144ce",
   "metadata": {},
   "outputs": [
    {
     "data": {
      "text/plain": [
       "Time\n",
       "13    5810\n",
       "16    5785\n",
       "12    5754\n",
       "23    5750\n",
       "11    5748\n",
       "7     5717\n",
       "14    5686\n",
       "15    5685\n",
       "21    5684\n",
       "8     5683\n",
       "17    5665\n",
       "22    5622\n",
       "19    5622\n",
       "10    5610\n",
       "9     5570\n",
       "18    5548\n",
       "20    5522\n",
       "2      536\n",
       "3      531\n",
       "6      515\n",
       "0      509\n",
       "5      489\n",
       "1      484\n",
       "4      474\n",
       "24       1\n",
       "Name: count, dtype: int64"
      ]
     },
     "execution_count": 7,
     "metadata": {},
     "output_type": "execute_result"
    }
   ],
   "source": [
    "df['Time'].value_counts()"
   ]
  },
  {
   "cell_type": "code",
   "execution_count": 8,
   "id": "cbff5f37",
   "metadata": {},
   "outputs": [
    {
     "data": {
      "text/plain": [
       "Entry Mode\n",
       "PIN    49976\n",
       "CVC    33481\n",
       "Tap    16543\n",
       "Name: count, dtype: int64"
      ]
     },
     "execution_count": 8,
     "metadata": {},
     "output_type": "execute_result"
    }
   ],
   "source": [
    "df['Entry Mode'].value_counts()"
   ]
  },
  {
   "cell_type": "code",
   "execution_count": 9,
   "id": "0dd7b954",
   "metadata": {},
   "outputs": [
    {
     "data": {
      "text/plain": [
       "Merchant Group\n",
       "Children         10679\n",
       "Restaurant       10078\n",
       "Services         10017\n",
       "Gaming           10011\n",
       "Fashion           9987\n",
       "Subscription      9977\n",
       "Food              9847\n",
       "Entertainment     9839\n",
       "Products          9839\n",
       "Electronics       9716\n",
       "Name: count, dtype: int64"
      ]
     },
     "execution_count": 9,
     "metadata": {},
     "output_type": "execute_result"
    }
   ],
   "source": [
    "df['Merchant Group'].value_counts()"
   ]
  },
  {
   "cell_type": "code",
   "execution_count": 10,
   "id": "41090a9c",
   "metadata": {},
   "outputs": [
    {
     "data": {
      "text/plain": [
       "Shipping Address\n",
       "United Kingdom    60905\n",
       "USA               10042\n",
       "Russia             9799\n",
       "China              9698\n",
       "India              9551\n",
       "Name: count, dtype: int64"
      ]
     },
     "execution_count": 10,
     "metadata": {},
     "output_type": "execute_result"
    }
   ],
   "source": [
    "df['Shipping Address'].value_counts()"
   ]
  },
  {
   "cell_type": "code",
   "execution_count": 11,
   "id": "e8231121",
   "metadata": {},
   "outputs": [
    {
     "data": {
      "text/plain": [
       "Country of Residence\n",
       "United Kingdom    81859\n",
       "Russia             4618\n",
       "USA                4590\n",
       "China              4529\n",
       "India              4404\n",
       "Name: count, dtype: int64"
      ]
     },
     "execution_count": 11,
     "metadata": {},
     "output_type": "execute_result"
    }
   ],
   "source": [
    "df['Country of Residence'].value_counts()"
   ]
  },
  {
   "cell_type": "code",
   "execution_count": 12,
   "id": "eee9ac61",
   "metadata": {},
   "outputs": [
    {
     "data": {
      "text/plain": [
       "Type of Transaction\n",
       "Online    33481\n",
       "ATM       33274\n",
       "POS       33245\n",
       "Name: count, dtype: int64"
      ]
     },
     "execution_count": 12,
     "metadata": {},
     "output_type": "execute_result"
    }
   ],
   "source": [
    "df['Type of Transaction'].value_counts()"
   ]
  },
  {
   "cell_type": "code",
   "execution_count": 13,
   "id": "c464d581",
   "metadata": {},
   "outputs": [
    {
     "data": {
      "text/plain": [
       "Gender\n",
       "M    50875\n",
       "F    49121\n",
       "Name: count, dtype: int64"
      ]
     },
     "execution_count": 13,
     "metadata": {},
     "output_type": "execute_result"
    }
   ],
   "source": [
    "df['Gender'].value_counts()"
   ]
  },
  {
   "cell_type": "code",
   "execution_count": 14,
   "id": "2616f860",
   "metadata": {},
   "outputs": [
    {
     "data": {
      "text/plain": [
       "Country of Transaction\n",
       "United Kingdom    71199\n",
       "USA                7298\n",
       "Russia             7257\n",
       "China              7152\n",
       "India              7094\n",
       "Name: count, dtype: int64"
      ]
     },
     "execution_count": 14,
     "metadata": {},
     "output_type": "execute_result"
    }
   ],
   "source": [
    "df['Country of Transaction'].value_counts()"
   ]
  },
  {
   "cell_type": "code",
   "execution_count": 15,
   "id": "2b3bb6d4",
   "metadata": {},
   "outputs": [
    {
     "data": {
      "text/plain": [
       "Amount\n",
       "£17     2153\n",
       "£23     2106\n",
       "£16     2084\n",
       "£28     2077\n",
       "£15     2073\n",
       "        ... \n",
       "£124     106\n",
       "£145     105\n",
       "£380     102\n",
       "£375     100\n",
       "£393      99\n",
       "Name: count, Length: 396, dtype: int64"
      ]
     },
     "execution_count": 15,
     "metadata": {},
     "output_type": "execute_result"
    }
   ],
   "source": [
    "df['Amount'].value_counts()"
   ]
  },
  {
   "cell_type": "code",
   "execution_count": 16,
   "id": "470cd8ce",
   "metadata": {},
   "outputs": [
    {
     "data": {
      "text/plain": [
       "Fraud\n",
       "0    92805\n",
       "1     7195\n",
       "Name: count, dtype: int64"
      ]
     },
     "execution_count": 16,
     "metadata": {},
     "output_type": "execute_result"
    }
   ],
   "source": [
    "df['Fraud'].value_counts()"
   ]
  },
  {
   "cell_type": "markdown",
   "id": "eefb814c",
   "metadata": {},
   "source": [
    "Split Dataset by Fraud Status"
   ]
  },
  {
   "cell_type": "code",
   "execution_count": 17,
   "id": "98d8e0e5",
   "metadata": {},
   "outputs": [],
   "source": [
    "fraud_df = df[df['Fraud'] == 1]\n",
    "non_fraud_df = df[df['Fraud'] == 0]"
   ]
  },
  {
   "cell_type": "markdown",
   "id": "59b04941",
   "metadata": {},
   "source": [
    "We’ll take all 7,195 fraud rows and 7,805 random non-fraud rows to make a total of 15,000 rows.\n"
   ]
  },
  {
   "cell_type": "code",
   "execution_count": 46,
   "id": "25b9e01a",
   "metadata": {},
   "outputs": [],
   "source": [
    "\n",
    "non_fraud_sample = non_fraud_df.sample(n=7805, random_state=42)\n",
    "newDf = pd.concat([fraud_df, non_fraud_sample])"
   ]
  },
  {
   "cell_type": "markdown",
   "id": "e83906b4",
   "metadata": {},
   "source": [
    "Shuffle the Combined Dataset"
   ]
  },
  {
   "cell_type": "code",
   "execution_count": 47,
   "id": "4d051a4c",
   "metadata": {},
   "outputs": [],
   "source": [
    " newDf= newDf.sample(frac=1, random_state=42).reset_index(drop=True)"
   ]
  },
  {
   "cell_type": "code",
   "execution_count": null,
   "id": "01349c23",
   "metadata": {},
   "outputs": [
    {
     "name": "stdout",
     "output_type": "stream",
     "text": [
      "Dataset saved successfully with shape: (14992, 16)\n"
     ]
    },
    {
     "name": "stderr",
     "output_type": "stream",
     "text": [
      "<>:7: SyntaxWarning: invalid escape sequence '\\D'\n",
      "<>:7: SyntaxWarning: invalid escape sequence '\\D'\n",
      "C:\\Users\\Vishva\\AppData\\Local\\Temp\\ipykernel_16344\\2818062338.py:7: SyntaxWarning: invalid escape sequence '\\D'\n",
      "  newDf.to_csv(\"C:\\D_Drive\\DLproject\\CreditCardFraudProject\\data\\CreditCardData_15000.csv\", index=False)\n"
     ]
    }
   ],
   "source": [
    "import os\n",
    "\n",
    "# Create \"data\" folder if not exist\n",
    "os.makedirs(\"data\", exist_ok=True)\n",
    "\n",
    "# Now save the file\n",
    "newDf.to_csv(\"C:\\D_Drive\\DLproject\\CreditCardFraudProject\\data\\CreditCardData_15000.csv\", index=False)\n",
    "\n",
    "print(\"Dataset saved successfully with shape:\", newDf.shape)"
   ]
  },
  {
   "cell_type": "code",
   "execution_count": null,
   "id": "8e8d155d",
   "metadata": {},
   "outputs": [
    {
     "data": {
      "text/plain": [
       "Fraud\n",
       "0    7805\n",
       "1    7195\n",
       "Name: count, dtype: int64"
      ]
     },
     "execution_count": 26,
     "metadata": {},
     "output_type": "execute_result"
    }
   ],
   "source": [
    "# Verify new distribution\n",
    "newDf['Fraud'].value_counts()\n"
   ]
  },
  {
   "cell_type": "code",
   "execution_count": null,
   "id": "8ec7c1d8",
   "metadata": {},
   "outputs": [
    {
     "data": {
      "text/html": [
       "<div>\n",
       "<style scoped>\n",
       "    .dataframe tbody tr th:only-of-type {\n",
       "        vertical-align: middle;\n",
       "    }\n",
       "\n",
       "    .dataframe tbody tr th {\n",
       "        vertical-align: top;\n",
       "    }\n",
       "\n",
       "    .dataframe thead th {\n",
       "        text-align: right;\n",
       "    }\n",
       "</style>\n",
       "<table border=\"1\" class=\"dataframe\">\n",
       "  <thead>\n",
       "    <tr style=\"text-align: right;\">\n",
       "      <th></th>\n",
       "      <th>Transaction ID</th>\n",
       "      <th>Date</th>\n",
       "      <th>Day of Week</th>\n",
       "      <th>Time</th>\n",
       "      <th>Type of Card</th>\n",
       "      <th>Entry Mode</th>\n",
       "      <th>Amount</th>\n",
       "      <th>Type of Transaction</th>\n",
       "      <th>Merchant Group</th>\n",
       "      <th>Country of Transaction</th>\n",
       "      <th>Shipping Address</th>\n",
       "      <th>Country of Residence</th>\n",
       "      <th>Gender</th>\n",
       "      <th>Age</th>\n",
       "      <th>Bank</th>\n",
       "      <th>Fraud</th>\n",
       "    </tr>\n",
       "  </thead>\n",
       "  <tbody>\n",
       "    <tr>\n",
       "      <th>0</th>\n",
       "      <td>#2800 777</td>\n",
       "      <td>14-Oct-20</td>\n",
       "      <td>Wednesday</td>\n",
       "      <td>19</td>\n",
       "      <td>Visa</td>\n",
       "      <td>CVC</td>\n",
       "      <td>£21</td>\n",
       "      <td>Online</td>\n",
       "      <td>Gaming</td>\n",
       "      <td>United Kingdom</td>\n",
       "      <td>China</td>\n",
       "      <td>United Kingdom</td>\n",
       "      <td>M</td>\n",
       "      <td>46.1</td>\n",
       "      <td>Lloyds</td>\n",
       "      <td>0</td>\n",
       "    </tr>\n",
       "    <tr>\n",
       "      <th>1</th>\n",
       "      <td>#3546 149</td>\n",
       "      <td>13-Oct-20</td>\n",
       "      <td>Tuesday</td>\n",
       "      <td>0</td>\n",
       "      <td>Visa</td>\n",
       "      <td>CVC</td>\n",
       "      <td>£6</td>\n",
       "      <td>Online</td>\n",
       "      <td>Gaming</td>\n",
       "      <td>Russia</td>\n",
       "      <td>Russia</td>\n",
       "      <td>United Kingdom</td>\n",
       "      <td>M</td>\n",
       "      <td>52.0</td>\n",
       "      <td>Metro</td>\n",
       "      <td>1</td>\n",
       "    </tr>\n",
       "    <tr>\n",
       "      <th>2</th>\n",
       "      <td>#3203 063</td>\n",
       "      <td>13-Oct-20</td>\n",
       "      <td>Tuesday</td>\n",
       "      <td>9</td>\n",
       "      <td>MasterCard</td>\n",
       "      <td>PIN</td>\n",
       "      <td>£7</td>\n",
       "      <td>ATM</td>\n",
       "      <td>Entertainment</td>\n",
       "      <td>United Kingdom</td>\n",
       "      <td>United Kingdom</td>\n",
       "      <td>United Kingdom</td>\n",
       "      <td>M</td>\n",
       "      <td>43.9</td>\n",
       "      <td>Monzo</td>\n",
       "      <td>0</td>\n",
       "    </tr>\n",
       "    <tr>\n",
       "      <th>3</th>\n",
       "      <td>#2654 293</td>\n",
       "      <td>14-Oct-20</td>\n",
       "      <td>Wednesday</td>\n",
       "      <td>20</td>\n",
       "      <td>Visa</td>\n",
       "      <td>CVC</td>\n",
       "      <td>£17</td>\n",
       "      <td>Online</td>\n",
       "      <td>Children</td>\n",
       "      <td>United Kingdom</td>\n",
       "      <td>China</td>\n",
       "      <td>United Kingdom</td>\n",
       "      <td>F</td>\n",
       "      <td>31.5</td>\n",
       "      <td>Barclays</td>\n",
       "      <td>1</td>\n",
       "    </tr>\n",
       "    <tr>\n",
       "      <th>4</th>\n",
       "      <td>#3195 835</td>\n",
       "      <td>14-Oct-20</td>\n",
       "      <td>Wednesday</td>\n",
       "      <td>11</td>\n",
       "      <td>Visa</td>\n",
       "      <td>CVC</td>\n",
       "      <td>£27</td>\n",
       "      <td>Online</td>\n",
       "      <td>Food</td>\n",
       "      <td>United Kingdom</td>\n",
       "      <td>India</td>\n",
       "      <td>United Kingdom</td>\n",
       "      <td>F</td>\n",
       "      <td>33.8</td>\n",
       "      <td>Barlcays</td>\n",
       "      <td>1</td>\n",
       "    </tr>\n",
       "  </tbody>\n",
       "</table>\n",
       "</div>"
      ],
      "text/plain": [
       "  Transaction ID       Date Day of Week  Time Type of Card Entry Mode Amount  \\\n",
       "0      #2800 777  14-Oct-20   Wednesday    19         Visa        CVC    £21   \n",
       "1      #3546 149  13-Oct-20     Tuesday     0         Visa        CVC     £6   \n",
       "2      #3203 063  13-Oct-20     Tuesday     9   MasterCard        PIN     £7   \n",
       "3      #2654 293  14-Oct-20   Wednesday    20         Visa        CVC    £17   \n",
       "4      #3195 835  14-Oct-20   Wednesday    11         Visa        CVC    £27   \n",
       "\n",
       "  Type of Transaction Merchant Group Country of Transaction Shipping Address  \\\n",
       "0              Online         Gaming         United Kingdom            China   \n",
       "1              Online         Gaming                 Russia           Russia   \n",
       "2                 ATM  Entertainment         United Kingdom   United Kingdom   \n",
       "3              Online       Children         United Kingdom            China   \n",
       "4              Online           Food         United Kingdom            India   \n",
       "\n",
       "  Country of Residence Gender   Age      Bank  Fraud  \n",
       "0       United Kingdom      M  46.1    Lloyds      0  \n",
       "1       United Kingdom      M  52.0     Metro      1  \n",
       "2       United Kingdom      M  43.9     Monzo      0  \n",
       "3       United Kingdom      F  31.5  Barclays      1  \n",
       "4       United Kingdom      F  33.8  Barlcays      1  "
      ]
     },
     "execution_count": 29,
     "metadata": {},
     "output_type": "execute_result"
    }
   ],
   "source": [
    "newDf.head()"
   ]
  },
  {
   "cell_type": "code",
   "execution_count": null,
   "id": "7747d124",
   "metadata": {},
   "outputs": [
    {
     "data": {
      "text/plain": [
       "(15000, 16)"
      ]
     },
     "execution_count": 31,
     "metadata": {},
     "output_type": "execute_result"
    }
   ],
   "source": [
    "newDf.shape"
   ]
  },
  {
   "cell_type": "code",
   "execution_count": null,
   "id": "390fba91",
   "metadata": {},
   "outputs": [
    {
     "data": {
      "text/plain": [
       "Transaction ID            0\n",
       "Date                      0\n",
       "Day of Week               0\n",
       "Time                      0\n",
       "Type of Card              0\n",
       "Entry Mode                0\n",
       "Amount                    3\n",
       "Type of Transaction       0\n",
       "Merchant Group            0\n",
       "Country of Transaction    0\n",
       "Shipping Address          0\n",
       "Country of Residence      0\n",
       "Gender                    1\n",
       "Age                       0\n",
       "Bank                      0\n",
       "Fraud                     0\n",
       "dtype: int64"
      ]
     },
     "execution_count": 32,
     "metadata": {},
     "output_type": "execute_result"
    }
   ],
   "source": [
    "newDf.isnull().sum()"
   ]
  },
  {
   "cell_type": "code",
   "execution_count": null,
   "id": "97327925",
   "metadata": {},
   "outputs": [],
   "source": [
    "newDf = newDf.dropna()"
   ]
  },
  {
   "cell_type": "code",
   "execution_count": null,
   "id": "ae647530",
   "metadata": {},
   "outputs": [
    {
     "data": {
      "text/plain": [
       "Transaction ID            0\n",
       "Date                      0\n",
       "Day of Week               0\n",
       "Time                      0\n",
       "Type of Card              0\n",
       "Entry Mode                0\n",
       "Amount                    0\n",
       "Type of Transaction       0\n",
       "Merchant Group            0\n",
       "Country of Transaction    0\n",
       "Shipping Address          0\n",
       "Country of Residence      0\n",
       "Gender                    0\n",
       "Age                       0\n",
       "Bank                      0\n",
       "Fraud                     0\n",
       "dtype: int64"
      ]
     },
     "execution_count": 35,
     "metadata": {},
     "output_type": "execute_result"
    }
   ],
   "source": [
    "newDf.isnull().sum()"
   ]
  },
  {
   "cell_type": "code",
   "execution_count": null,
   "id": "fa768e02",
   "metadata": {},
   "outputs": [
    {
     "data": {
      "text/plain": [
       "(14996, 16)"
      ]
     },
     "execution_count": 36,
     "metadata": {},
     "output_type": "execute_result"
    }
   ],
   "source": [
    "newDf.shape"
   ]
  },
  {
   "cell_type": "code",
   "execution_count": null,
   "id": "caf6700c",
   "metadata": {},
   "outputs": [
    {
     "data": {
      "text/plain": [
       "Bank\n",
       "Barclays    4605\n",
       "Metro       1550\n",
       "Barlcays    1527\n",
       "Monzo       1520\n",
       "RBS         1465\n",
       "Lloyds      1453\n",
       "Halifax     1440\n",
       "HSBC        1436\n",
       "Name: count, dtype: int64"
      ]
     },
     "execution_count": 37,
     "metadata": {},
     "output_type": "execute_result"
    }
   ],
   "source": [
    "newDf['Bank'].value_counts()"
   ]
  },
  {
   "cell_type": "code",
   "execution_count": null,
   "id": "d7053365",
   "metadata": {},
   "outputs": [
    {
     "data": {
      "text/plain": [
       "Type of Card\n",
       "Visa          8462\n",
       "MasterCard    6534\n",
       "Name: count, dtype: int64"
      ]
     },
     "execution_count": 39,
     "metadata": {},
     "output_type": "execute_result"
    }
   ],
   "source": [
    "newDf['Type of Card'].value_counts()"
   ]
  },
  {
   "cell_type": "code",
   "execution_count": null,
   "id": "5eceb2ce",
   "metadata": {},
   "outputs": [
    {
     "data": {
      "text/plain": [
       "Day of Week\n",
       "Tuesday      7516\n",
       "Wednesday    7476\n",
       "Friday          2\n",
       "Thursday        2\n",
       "Name: count, dtype: int64"
      ]
     },
     "execution_count": 41,
     "metadata": {},
     "output_type": "execute_result"
    }
   ],
   "source": [
    "newDf['Day of Week'].value_counts()"
   ]
  },
  {
   "cell_type": "markdown",
   "id": "2b89bca3",
   "metadata": {},
   "source": [
    "Remove tha Day of week = Friday / Thursday"
   ]
  },
  {
   "cell_type": "code",
   "execution_count": null,
   "id": "383d63a8",
   "metadata": {},
   "outputs": [],
   "source": [
    "newDf = newDf[~newDf['Day of Week'].isin(['Friday', 'Thursday'])]\n",
    "\n",
    "newDf = newDf.reset_index(drop=True)"
   ]
  },
  {
   "cell_type": "code",
   "execution_count": null,
   "id": "51ac14f7",
   "metadata": {},
   "outputs": [
    {
     "data": {
      "text/plain": [
       "Day of Week\n",
       "Tuesday      7516\n",
       "Wednesday    7476\n",
       "Name: count, dtype: int64"
      ]
     },
     "execution_count": 43,
     "metadata": {},
     "output_type": "execute_result"
    }
   ],
   "source": [
    "newDf['Day of Week'].value_counts()"
   ]
  },
  {
   "cell_type": "code",
   "execution_count": null,
   "id": "d2884909",
   "metadata": {},
   "outputs": [
    {
     "data": {
      "text/plain": [
       "Date\n",
       "13-Oct-20    7516\n",
       "14-Oct-20    7476\n",
       "Name: count, dtype: int64"
      ]
     },
     "execution_count": 44,
     "metadata": {},
     "output_type": "execute_result"
    }
   ],
   "source": [
    "newDf['Date'].value_counts()"
   ]
  },
  {
   "cell_type": "code",
   "execution_count": null,
   "id": "863c04e9",
   "metadata": {},
   "outputs": [
    {
     "data": {
      "text/plain": [
       "Time\n",
       "13    800\n",
       "22    728\n",
       "7     705\n",
       "8     685\n",
       "15    677\n",
       "10    676\n",
       "20    675\n",
       "18    672\n",
       "16    665\n",
       "11    664\n",
       "17    663\n",
       "23    662\n",
       "9     657\n",
       "12    651\n",
       "21    633\n",
       "14    626\n",
       "19    616\n",
       "2     536\n",
       "3     531\n",
       "6     515\n",
       "0     509\n",
       "5     488\n",
       "1     483\n",
       "4     474\n",
       "24      1\n",
       "Name: count, dtype: int64"
      ]
     },
     "execution_count": 45,
     "metadata": {},
     "output_type": "execute_result"
    }
   ],
   "source": [
    "newDf['Time'].value_counts()"
   ]
  },
  {
   "cell_type": "code",
   "execution_count": 49,
   "id": "e9872fae",
   "metadata": {},
   "outputs": [
    {
     "name": "stdout",
     "output_type": "stream",
     "text": [
      "Time    98.51103\n",
      "Age      1.48897\n",
      "dtype: float64\n"
     ]
    }
   ],
   "source": [
    "# Only numeric features\n",
    "numeric_cols = newDf.select_dtypes(include=['int64', 'float64']).columns.drop('Fraud')\n",
    "\n",
    "# Correlation with target\n",
    "correlation = newDf[numeric_cols].corrwith(newDf['Fraud']).sort_values(key=abs, ascending=False)\n",
    "\n",
    "# Convert to percentage (absolute value)\n",
    "correlation_percent = (correlation.abs() / correlation.abs().sum()) * 100\n",
    "\n",
    "print(correlation_percent)\n"
   ]
  },
  {
   "cell_type": "code",
   "execution_count": 50,
   "id": "692f7c50",
   "metadata": {},
   "outputs": [
    {
     "name": "stdout",
     "output_type": "stream",
     "text": [
      "Transaction ID: 15.27%\n",
      "Date: 0.07%\n",
      "Day of Week: 0.01%\n",
      "Type of Card: 0.26%\n",
      "Entry Mode: 0.01%\n",
      "Amount: 17.60%\n",
      "Type of Transaction: 0.32%\n",
      "Merchant Group: 4.60%\n",
      "Country of Transaction: 26.58%\n",
      "Shipping Address: 33.27%\n",
      "Country of Residence: 1.53%\n",
      "Gender: 0.42%\n",
      "Bank: 0.04%\n"
     ]
    }
   ],
   "source": [
    "from sklearn.preprocessing import LabelEncoder\n",
    "from sklearn.feature_selection import chi2\n",
    "\n",
    "# Encode categorical features\n",
    "cat_cols = newDf.select_dtypes(include=['object']).columns\n",
    "le = LabelEncoder()\n",
    "\n",
    "X_cat = newDf[cat_cols].apply(lambda col: le.fit_transform(col))\n",
    "y = newDf['Fraud']\n",
    "\n",
    "# Chi-square test\n",
    "chi_scores, p_values = chi2(X_cat, y)\n",
    "\n",
    "# Convert to percentages\n",
    "chi_percent = (chi_scores / chi_scores.sum()) * 100\n",
    "\n",
    "for col, score in zip(cat_cols, chi_percent):\n",
    "    print(f\"{col}: {score:.2f}%\")\n"
   ]
  },
  {
   "cell_type": "code",
   "execution_count": 53,
   "id": "b32d5736",
   "metadata": {},
   "outputs": [
    {
     "name": "stdout",
     "output_type": "stream",
     "text": [
      "--- Transaction ID ---\n",
      "                Count (Fraud=1)  Percentage (%)\n",
      "Transaction ID                                 \n",
      "#3462 932                     2            0.03\n",
      "#3090 262                     2            0.03\n",
      "#3198 303                     2            0.03\n",
      "#3293 336                     2            0.03\n",
      "#2547 017                     2            0.03\n",
      "...                         ...             ...\n",
      "#2708 292                     1            0.01\n",
      "#2994 784                     1            0.01\n",
      "#3414 350                     1            0.01\n",
      "#3538 621                     1            0.01\n",
      "#3195 835                     1            0.01\n",
      "\n",
      "[7171 rows x 2 columns]\n",
      "\n",
      "--- Date ---\n",
      "           Count (Fraud=1)  Percentage (%)\n",
      "Date                                      \n",
      "13-Oct-20             3734           51.90\n",
      "14-Oct-20             3459           48.08\n",
      "15-Oct-20                1            0.01\n",
      "16-Oct-20                1            0.01\n",
      "\n",
      "--- Day of Week ---\n",
      "             Count (Fraud=1)  Percentage (%)\n",
      "Day of Week                                 \n",
      "Tuesday                 3733           51.88\n",
      "Wednesday               3459           48.08\n",
      "Thursday                   2            0.03\n",
      "Friday                     1            0.01\n",
      "\n",
      "--- Time ---\n",
      "   Mean (Fraud=1)  Median (Fraud=1)  Min (Fraud=1)  Max (Fraud=1)\n",
      "0        9.103405               7.0              0             24\n",
      "\n",
      "--- Type of Card ---\n",
      "              Count (Fraud=1)  Percentage (%)\n",
      "Type of Card                                 \n",
      "Visa                     4320           60.04\n",
      "MasterCard               2875           39.96\n",
      "\n",
      "--- Entry Mode ---\n",
      "            Count (Fraud=1)  Percentage (%)\n",
      "Entry Mode                                 \n",
      "CVC                    3201           44.49\n",
      "PIN                    2146           29.83\n",
      "Tap                    1848           25.68\n",
      "\n",
      "--- Amount ---\n",
      "        Count (Fraud=1)  Percentage (%)\n",
      "Amount                                 \n",
      "£24                 244            3.39\n",
      "£17                 242            3.36\n",
      "£23                 237            3.30\n",
      "£20                 236            3.28\n",
      "£11                 236            3.28\n",
      "...                 ...             ...\n",
      "£195                  1            0.01\n",
      "£212                  1            0.01\n",
      "£174                  1            0.01\n",
      "£112                  1            0.01\n",
      "£142                  1            0.01\n",
      "\n",
      "[392 rows x 2 columns]\n",
      "\n",
      "--- Type of Transaction ---\n",
      "                     Count (Fraud=1)  Percentage (%)\n",
      "Type of Transaction                                 \n",
      "Online                          3201           44.49\n",
      "POS                             2321           32.26\n",
      "ATM                             1673           23.25\n",
      "\n",
      "--- Merchant Group ---\n",
      "                Count (Fraud=1)  Percentage (%)\n",
      "Merchant Group                                 \n",
      "Children                   1280           17.79\n",
      "Electronics                 984           13.68\n",
      "Fashion                     924           12.84\n",
      "Services                    593            8.24\n",
      "Entertainment               590            8.20\n",
      "Gaming                      583            8.10\n",
      "Food                        578            8.03\n",
      "Products                    563            7.82\n",
      "Subscription                560            7.78\n",
      "Restaurant                  540            7.51\n",
      "\n",
      "--- Country of Transaction ---\n",
      "                        Count (Fraud=1)  Percentage (%)\n",
      "Country of Transaction                                 \n",
      "India                              1577           21.92\n",
      "USA                                1559           21.67\n",
      "China                              1510           20.99\n",
      "Russia                             1481           20.58\n",
      "United Kingdom                     1068           14.84\n",
      "\n",
      "--- Shipping Address ---\n",
      "                  Count (Fraud=1)  Percentage (%)\n",
      "Shipping Address                                 \n",
      "USA                          1826           25.38\n",
      "India                        1766           24.54\n",
      "China                        1745           24.25\n",
      "Russia                       1732           24.07\n",
      "United Kingdom                126            1.75\n",
      "\n",
      "--- Country of Residence ---\n",
      "                      Count (Fraud=1)  Percentage (%)\n",
      "Country of Residence                                 \n",
      "United Kingdom                   7069           98.25\n",
      "India                              33            0.46\n",
      "China                              32            0.44\n",
      "Russia                             31            0.43\n",
      "USA                                30            0.42\n",
      "\n",
      "--- Gender ---\n",
      "        Count (Fraud=1)  Percentage (%)\n",
      "Gender                                 \n",
      "M                  4276           59.43\n",
      "F                  2919           40.57\n",
      "\n",
      "--- Age ---\n",
      "   Mean (Fraud=1)  Median (Fraud=1)  Min (Fraud=1)  Max (Fraud=1)\n",
      "0       44.892384              44.9           16.8           76.9\n",
      "\n",
      "--- Bank ---\n",
      "          Count (Fraud=1)  Percentage (%)\n",
      "Bank                                     \n",
      "Barclays             2294           31.88\n",
      "Metro                 805           11.19\n",
      "Monzo                 728           10.12\n",
      "Lloyds                693            9.63\n",
      "Barlcays              690            9.59\n",
      "Halifax               680            9.45\n",
      "HSBC                  653            9.08\n",
      "RBS                   652            9.06\n",
      "\n",
      "--- Fraud ---\n",
      "   Mean (Fraud=1)  Median (Fraud=1)  Min (Fraud=1)  Max (Fraud=1)\n",
      "0             1.0               1.0              1              1\n",
      "\n"
     ]
    }
   ],
   "source": [
    "import pandas as pd\n",
    "\n",
    "# Filter only fraud transactions\n",
    "fraud_df = newDf[newDf['Fraud'] == 1]\n",
    "\n",
    "# Loop through all columns\n",
    "for col in newDf.columns:\n",
    "    print(f\"--- {col} ---\")\n",
    "    \n",
    "    if newDf[col].dtype == 'object':  # Categorical column\n",
    "        counts = fraud_df[col].value_counts()\n",
    "        percent = (counts / counts.sum()) * 100\n",
    "        summary = pd.DataFrame({\n",
    "            'Count (Fraud=1)': counts,\n",
    "            'Percentage (%)': percent.round(2)\n",
    "        })\n",
    "    else:  # Numeric column\n",
    "        summary = pd.DataFrame({\n",
    "            'Mean (Fraud=1)': [fraud_df[col].mean()],\n",
    "            'Median (Fraud=1)': [fraud_df[col].median()],\n",
    "            'Min (Fraud=1)': [fraud_df[col].min()],\n",
    "            'Max (Fraud=1)': [fraud_df[col].max()]\n",
    "        })\n",
    "    \n",
    "    print(summary)\n",
    "    print()\n"
   ]
  }
 ],
 "metadata": {
  "kernelspec": {
   "display_name": "venv",
   "language": "python",
   "name": "python3"
  },
  "language_info": {
   "codemirror_mode": {
    "name": "ipython",
    "version": 3
   },
   "file_extension": ".py",
   "mimetype": "text/x-python",
   "name": "python",
   "nbconvert_exporter": "python",
   "pygments_lexer": "ipython3",
   "version": "3.13.7"
  }
 },
 "nbformat": 4,
 "nbformat_minor": 5
}
