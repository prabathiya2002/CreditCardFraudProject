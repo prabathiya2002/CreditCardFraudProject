{
 "cells": [
  {
   "cell_type": "code",
   "execution_count": 10,
   "id": "d8605906",
   "metadata": {},
   "outputs": [
    {
     "name": "stdout",
     "output_type": "stream",
     "text": [
      " Volume in drive C has no label.\n",
      " Volume Serial Number is 04FC-5BE8\n",
      "\n",
      " Directory of c:\\D_Drive\\DLproject\\CreditCardFraudProject\\notebooks\n",
      "\n",
      "10/06/2025  11:48 PM    <DIR>          .\n",
      "10/06/2025  11:47 PM    <DIR>          ..\n",
      "10/06/2025  11:44 PM                 2 .gitkeep\n",
      "10/06/2025  11:56 PM             1,271 preprocessing.ipynb\n",
      "               2 File(s)          1,273 bytes\n",
      "               2 Dir(s)  225,010,806,784 bytes free\n"
     ]
    }
   ],
   "source": [
    "!dir\n"
   ]
  }
 ],
 "metadata": {
  "kernelspec": {
   "display_name": "venv",
   "language": "python",
   "name": "python3"
  },
  "language_info": {
   "codemirror_mode": {
    "name": "ipython",
    "version": 3
   },
   "file_extension": ".py",
   "mimetype": "text/x-python",
   "name": "python",
   "nbconvert_exporter": "python",
   "pygments_lexer": "ipython3",
   "version": "3.13.7"
  }
 },
 "nbformat": 4,
 "nbformat_minor": 5
}
